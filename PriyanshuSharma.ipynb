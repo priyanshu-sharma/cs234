{
  "cells": [
    {
      "cell_type": "markdown",
      "metadata": {
        "id": "MJtJ-mXlIMe7"
      },
      "source": [
        "<hr style=\"height:5px;border-width:2;color:gray;background-color:#000000\"> \n",
        "<center><h1>CS 234 - Fall 2022 - Linear-Time Construction of Suffix Trees</h1></center>\n",
        "<center><h1>Due: Sunday, December 4th, 2022</h1></center>"
      ]
    },
    {
      "cell_type": "markdown",
      "metadata": {
        "tags": [],
        "id": "Xc7mxs0yIMe_"
      },
      "source": [
        "### Enter your information below:\n",
        "\n",
        "<div style=\"color: #000000;background-color: #EEEEFF\">\n",
        "    Your Name (submitter):  <br>\n",
        "    Your student ID (submitter):\n",
        "<br>\n",
        "<br>\n",
        "<b>By submitting this notebook, I assert that the work below is my own work, completed for this course.  Except where explicitly cited, none of the portions of this notebook are duplicated from anyone else's work or my own previous work.</b>\n",
        "<br>    \n",
        "<br>\n",
        "<B>Late work:</B> There is no late deadline for the final project, except for the most serious circumstances (illness, medical emergency, etc.) which have to be documented.\n",
        "</div>\n"
      ]
    },
    {
      "cell_type": "markdown",
      "metadata": {
        "id": "d44YCE_TIMfB"
      },
      "source": [
        "<hr style=\"height:5px;border-width:2;color:gray;background-color:#000000\"> \n",
        "<center><h1>Ukkonen's algorithm</h1></center>\n",
        "<br>\n",
        "In this project you will implement the construction of suffix trees in linear-time using Ukkonen's algorithm. This algorithm was <B>not</B> explained in class. Part of this project is to understand how the algorithm works before starting the implementation. Here is some resources:\n",
        "<UL>\n",
        "    <li><A HREF=\"https://www.google.com/url?sa=t&rct=j&q=&esrc=s&source=web&cd=&cad=rja&uact=8&ved=2ahUKEwijjZ-oso_3AhWiIUQIHetGA1IQFnoECAMQAQ&url=http%3A%2F%2Fresearch.engineering.nyu.edu%2F~greg%2Falgo2%2Fprojects%2FSuffix_Tree_Implementation.pdf&usg=AOvVaw0Dqiem0l4NxXi41DvXUQ3N\">Gusfield's chapter on suffix trees</A> from his <A HREF=\"https://www.amazon.com/dp/0521585198\">book</A></li>\n",
        "    <li><A HREF=\"https://www.geeksforgeeks.org/ukkonens-suffix-tree-construction-part-1/\">GeeksforGeeks</A></li>\n",
        "    <li><A HREF=\"https://brenden.github.io/ukkonen-animation/\">Ukkonen's animation</A>, step by step</li>\n",
        "    <li><A HREF=\"https://stackoverflow.com/questions/9452701/ukkonens-suffix-tree-algorithm-in-plain-english\">StackOverflow</A></li>\n",
        "    <li>There are several videos on YouTube, e.g., <A HREF=\"https://www.youtube.com/watch?v=aPRqocoBsFQ\">this one</A></li>\n",
        "    <li>Use <A HREF=\"https://www.google.com/search?q=ukkonen+algorithm\">Google</A> for more</li>\n",
        "</UL>\n",
        "\n",
        "Goals:\n",
        "<UL>\n",
        "    <LI>Write a working (bug-free) Python3 implementation of Ukkonen's algorithm in JupyterHub that runs in linear time</LI>\n",
        "    <LI>Make sure that your implementation is correct: compare the output of your implementation to the output for the O(n^2) implementation that we used in Homework 2</LI>\n",
        "    <LI>Collect experimental results on running your code for larger and larger inputs, say 1000, 2000, 5000, 10000, 100000 symbols, and plot the running time as a function of the input size</LI>\n",
        "</UL>\n",
        "\n",
        "You are allowed to study C/C++ implementations of Ukkonen's algorithm, but you have to write your own Python code. It is mandatory to acknowledge sources.\n"
      ]
    },
    {
      "cell_type": "code",
      "execution_count": null,
      "metadata": {
        "id": "NYIQAsQsIMfC"
      },
      "outputs": [],
      "source": [
        "# YOUR CODE HERE\n",
        "# no suffix tree libraries allowed"
      ]
    }
  ],
  "metadata": {
    "kernelspec": {
      "display_name": "UCR CS 144",
      "language": "python",
      "name": "cs144_spring2021"
    },
    "language_info": {
      "codemirror_mode": {
        "name": "ipython",
        "version": 3
      },
      "file_extension": ".py",
      "mimetype": "text/x-python",
      "name": "python",
      "nbconvert_exporter": "python",
      "pygments_lexer": "ipython3",
      "version": "3.8.5"
    },
    "colab": {
      "provenance": []
    }
  },
  "nbformat": 4,
  "nbformat_minor": 0
}